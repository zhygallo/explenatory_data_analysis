{
 "cells": [
  {
   "cell_type": "code",
   "execution_count": 1,
   "metadata": {
    "collapsed": true
   },
   "outputs": [],
   "source": [
    "import pandas as pd"
   ]
  },
  {
   "cell_type": "markdown",
   "source": [
    "## Import Data"
   ],
   "metadata": {
    "collapsed": false,
    "pycharm": {
     "name": "#%% md\n"
    }
   }
  },
  {
   "cell_type": "code",
   "execution_count": 2,
   "outputs": [],
   "source": [
    "df_orig = pd.read_excel(\"data/DefectData_2019_2021.xlsx\")"
   ],
   "metadata": {
    "collapsed": false,
    "pycharm": {
     "name": "#%%\n"
    }
   }
  },
  {
   "cell_type": "code",
   "execution_count": 3,
   "outputs": [
    {
     "data": {
      "text/plain": "    JobId   OrderId    ERPJobId        Side  DefectCode DefectText  \\\n0  1757.0  32819971  3149001757  R                  109         中心   \n1   920.0  32819143  3149000920  R                  112      大缺口破损   \n2   920.0  32819143  3149000920  R                  112      大缺口破损   \n3  1816.0  32820031  3149001816  R                  109         边缘   \n4  1025.0  32819246  3149001025  R                  112      大缺口破损   \n\n                  Blocker            BlockingTime           Generator  \\\n0  LOH PRA //10.180.216.6 2021-07-27 14:28:53.693  V06B/10.180.216.72   \n1                    BLA5 2021-07-27 14:32:05.843  V02B/10.180.216.68   \n2                    BLA5 2021-07-27 14:32:05.843  V02B/10.180.216.68   \n3                    BLA1 2021-07-27 13:44:13.860  V17B/10.180.216.76   \n4                    BL14 2021-07-27 14:41:14.560  V05B/10.180.216.71   \n\n                  GenTime   Polishing           PolishingTime  \\\n0 2021-07-27 15:14:35.553  CCP102_01B 2021-07-27 15:43:13.097   \n1 2021-07-27 15:12:00.637  CCP103_04B 2021-07-27 15:56:26.153   \n2 2021-07-27 15:12:00.637  CCP103_04B 2021-07-27 15:56:26.153   \n3 2021-07-27 15:12:50.287  CCP10M_21B 2021-07-27 15:46:53.717   \n4 2021-07-27 15:26:17.350  CCP103_11B 2021-07-27 16:07:55.657   \n\n                Laser             SigningTime            CheckingTime  \\\n0  LSU/10.180.217.242 2021-07-27 15:53:34.220 2021-07-27 17:11:19.877   \n1  LSU/10.180.217.243 2021-07-27 16:01:42.030 2021-07-27 17:11:11.220   \n2  LSU/10.180.217.243 2021-07-27 16:01:42.030 2021-07-27 17:11:07.583   \n3  LSU/10.180.217.243 2021-07-27 16:00:44.550 2021-07-27 17:10:52.107   \n4  LSU/10.180.217.246 2021-07-27 16:13:49.343 2021-07-27 17:10:42.650   \n\n      Shift        Area  \n0  DayShift  Line C      \n1  DayShift  Line C      \n2  DayShift  Line C      \n3  DayShift  Line C      \n4  DayShift  Line C      ",
      "text/html": "<div>\n<style scoped>\n    .dataframe tbody tr th:only-of-type {\n        vertical-align: middle;\n    }\n\n    .dataframe tbody tr th {\n        vertical-align: top;\n    }\n\n    .dataframe thead th {\n        text-align: right;\n    }\n</style>\n<table border=\"1\" class=\"dataframe\">\n  <thead>\n    <tr style=\"text-align: right;\">\n      <th></th>\n      <th>JobId</th>\n      <th>OrderId</th>\n      <th>ERPJobId</th>\n      <th>Side</th>\n      <th>DefectCode</th>\n      <th>DefectText</th>\n      <th>Blocker</th>\n      <th>BlockingTime</th>\n      <th>Generator</th>\n      <th>GenTime</th>\n      <th>Polishing</th>\n      <th>PolishingTime</th>\n      <th>Laser</th>\n      <th>SigningTime</th>\n      <th>CheckingTime</th>\n      <th>Shift</th>\n      <th>Area</th>\n    </tr>\n  </thead>\n  <tbody>\n    <tr>\n      <th>0</th>\n      <td>1757.0</td>\n      <td>32819971</td>\n      <td>3149001757</td>\n      <td>R</td>\n      <td>109</td>\n      <td>中心</td>\n      <td>LOH PRA //10.180.216.6</td>\n      <td>2021-07-27 14:28:53.693</td>\n      <td>V06B/10.180.216.72</td>\n      <td>2021-07-27 15:14:35.553</td>\n      <td>CCP102_01B</td>\n      <td>2021-07-27 15:43:13.097</td>\n      <td>LSU/10.180.217.242</td>\n      <td>2021-07-27 15:53:34.220</td>\n      <td>2021-07-27 17:11:19.877</td>\n      <td>DayShift</td>\n      <td>Line C</td>\n    </tr>\n    <tr>\n      <th>1</th>\n      <td>920.0</td>\n      <td>32819143</td>\n      <td>3149000920</td>\n      <td>R</td>\n      <td>112</td>\n      <td>大缺口破损</td>\n      <td>BLA5</td>\n      <td>2021-07-27 14:32:05.843</td>\n      <td>V02B/10.180.216.68</td>\n      <td>2021-07-27 15:12:00.637</td>\n      <td>CCP103_04B</td>\n      <td>2021-07-27 15:56:26.153</td>\n      <td>LSU/10.180.217.243</td>\n      <td>2021-07-27 16:01:42.030</td>\n      <td>2021-07-27 17:11:11.220</td>\n      <td>DayShift</td>\n      <td>Line C</td>\n    </tr>\n    <tr>\n      <th>2</th>\n      <td>920.0</td>\n      <td>32819143</td>\n      <td>3149000920</td>\n      <td>R</td>\n      <td>112</td>\n      <td>大缺口破损</td>\n      <td>BLA5</td>\n      <td>2021-07-27 14:32:05.843</td>\n      <td>V02B/10.180.216.68</td>\n      <td>2021-07-27 15:12:00.637</td>\n      <td>CCP103_04B</td>\n      <td>2021-07-27 15:56:26.153</td>\n      <td>LSU/10.180.217.243</td>\n      <td>2021-07-27 16:01:42.030</td>\n      <td>2021-07-27 17:11:07.583</td>\n      <td>DayShift</td>\n      <td>Line C</td>\n    </tr>\n    <tr>\n      <th>3</th>\n      <td>1816.0</td>\n      <td>32820031</td>\n      <td>3149001816</td>\n      <td>R</td>\n      <td>109</td>\n      <td>边缘</td>\n      <td>BLA1</td>\n      <td>2021-07-27 13:44:13.860</td>\n      <td>V17B/10.180.216.76</td>\n      <td>2021-07-27 15:12:50.287</td>\n      <td>CCP10M_21B</td>\n      <td>2021-07-27 15:46:53.717</td>\n      <td>LSU/10.180.217.243</td>\n      <td>2021-07-27 16:00:44.550</td>\n      <td>2021-07-27 17:10:52.107</td>\n      <td>DayShift</td>\n      <td>Line C</td>\n    </tr>\n    <tr>\n      <th>4</th>\n      <td>1025.0</td>\n      <td>32819246</td>\n      <td>3149001025</td>\n      <td>R</td>\n      <td>112</td>\n      <td>大缺口破损</td>\n      <td>BL14</td>\n      <td>2021-07-27 14:41:14.560</td>\n      <td>V05B/10.180.216.71</td>\n      <td>2021-07-27 15:26:17.350</td>\n      <td>CCP103_11B</td>\n      <td>2021-07-27 16:07:55.657</td>\n      <td>LSU/10.180.217.246</td>\n      <td>2021-07-27 16:13:49.343</td>\n      <td>2021-07-27 17:10:42.650</td>\n      <td>DayShift</td>\n      <td>Line C</td>\n    </tr>\n  </tbody>\n</table>\n</div>"
     },
     "execution_count": 3,
     "metadata": {},
     "output_type": "execute_result"
    }
   ],
   "source": [
    "df_orig.head()"
   ],
   "metadata": {
    "collapsed": false,
    "pycharm": {
     "name": "#%%\n"
    }
   }
  },
  {
   "cell_type": "code",
   "execution_count": 4,
   "outputs": [
    {
     "data": {
      "text/plain": "JobId                   float64\nOrderId                   int64\nERPJobId                  int64\nSide                     object\nDefectCode                int64\nDefectText               object\nBlocker                  object\nBlockingTime     datetime64[ns]\nGenerator                object\nGenTime          datetime64[ns]\nPolishing                object\nPolishingTime    datetime64[ns]\nLaser                    object\nSigningTime      datetime64[ns]\nCheckingTime     datetime64[ns]\nShift                    object\nArea                     object\ndtype: object"
     },
     "execution_count": 4,
     "metadata": {},
     "output_type": "execute_result"
    }
   ],
   "source": [
    "df_orig.dtypes"
   ],
   "metadata": {
    "collapsed": false,
    "pycharm": {
     "name": "#%%\n"
    }
   }
  },
  {
   "cell_type": "markdown",
   "source": [
    "## Pick predictive columns and the label column\n",
    "label_column = \"DefectCode\"\n",
    "\n",
    "predictive_columns = [\n",
    "    'Side',\n",
    "    'DefectCode',\n",
    "    'DefectText',\n",
    "    'Blocker',\n",
    "    'BlockingTime',\n",
    "    'Generator',\n",
    "    'GenTime',\n",
    "    'Polishing',\n",
    "    'PolishingTime',\n",
    "    'Laser',\n",
    "    'SigningTime',\n",
    "    'CheckingTime',\n",
    "    'Shift',\n",
    "    'Area'\n",
    "]\n",
    "\n",
    "time_columns = [\n",
    "    \"BlockingTime\",\n",
    "    \"GenTime\",\n",
    "    \"PolishingTime\",\n",
    "    \"SigningTime\",\n",
    "    \"CheckingTime\",\n",
    "]\n"
   ],
   "metadata": {
    "collapsed": false,
    "pycharm": {
     "name": "#%% md\n"
    }
   }
  },
  {
   "cell_type": "code",
   "execution_count": 5,
   "outputs": [
    {
     "ename": "NameError",
     "evalue": "name 'time_columns' is not defined",
     "output_type": "error",
     "traceback": [
      "\u001B[0;31m---------------------------------------------------------------------------\u001B[0m",
      "\u001B[0;31mNameError\u001B[0m                                 Traceback (most recent call last)",
      "\u001B[0;32m/var/folders/xb/n6mk9gk128zbfrpf3_1xdmwr0000gq/T/ipykernel_60737/41705642.py\u001B[0m in \u001B[0;36m<module>\u001B[0;34m\u001B[0m\n\u001B[0;32m----> 1\u001B[0;31m \u001B[0mdf_orig\u001B[0m\u001B[0;34m[\u001B[0m\u001B[0mtime_columns\u001B[0m\u001B[0;34m]\u001B[0m\u001B[0;34m\u001B[0m\u001B[0;34m\u001B[0m\u001B[0m\n\u001B[0m\u001B[1;32m      2\u001B[0m \u001B[0;34m\u001B[0m\u001B[0m\n",
      "\u001B[0;31mNameError\u001B[0m: name 'time_columns' is not defined"
     ]
    }
   ],
   "source": [
    "df_orig[time_columns]"
   ],
   "metadata": {
    "collapsed": false,
    "pycharm": {
     "name": "#%%\n"
    }
   }
  },
  {
   "cell_type": "code",
   "execution_count": null,
   "outputs": [],
   "source": [],
   "metadata": {
    "collapsed": false,
    "pycharm": {
     "name": "#%%\n"
    }
   }
  }
 ],
 "metadata": {
  "kernelspec": {
   "name": "pycharm-eb8a61f1",
   "language": "python",
   "display_name": "PyCharm (explenatory_data_analysis)"
  },
  "language_info": {
   "codemirror_mode": {
    "name": "ipython",
    "version": 2
   },
   "file_extension": ".py",
   "mimetype": "text/x-python",
   "name": "python",
   "nbconvert_exporter": "python",
   "pygments_lexer": "ipython2",
   "version": "2.7.6"
  }
 },
 "nbformat": 4,
 "nbformat_minor": 0
}